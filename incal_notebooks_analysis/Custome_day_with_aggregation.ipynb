{
 "cells": [
  {
   "cell_type": "code",
   "execution_count": 34,
   "metadata": {},
   "outputs": [],
   "source": [
    "import numpy as np\n",
    "import pandas as pd\n",
    "from collections import OrderedDict, Counter\n",
    "import itertools\n",
    "import plotly.express as px\n",
    "\n",
    "def flat_list(d_list):\n",
    "    '''\n",
    "    dependencies: itertools\n",
    "    '''\n",
    "    return list(itertools.chain.from_iterable(d_list))\n",
    "\n",
    "\n",
    "def incal_create_df_incal_format(df_data_experiment, df_design_expriment):\n",
    "    df = df_data_experiment.copy()\n",
    "    categories_groups = df_design_expriment.values[:, 0]\n",
    "    categories_subjects = list(\n",
    "        filter(lambda x: ~np.isnan(x),\n",
    "               (flat_list(df_design_expriment.values[:, 1:]))))\n",
    "\n",
    "    date_time_level = pd.Series((pd.DatetimeIndex(df['Date_Time_1'])),\n",
    "                                name='Date_Time_1')\n",
    "    subjects_level = pd.Series(pd.Categorical(df['subjectID'],\n",
    "                                              categories=categories_subjects,\n",
    "                                              ordered=True),\n",
    "                               name='subjectsID')\n",
    "    group_level = pd.Series(pd.Categorical(df['Group'],\n",
    "                                           categories=categories_groups,\n",
    "                                           ordered=True),\n",
    "                            name='Group')\n",
    "\n",
    "    df = df.drop(columns=['Date_Time_1', 'subjectID', 'Group'])\n",
    "\n",
    "    multi_index_dataframe = pd.concat(\n",
    "        [date_time_level, subjects_level, group_level], axis=1)\n",
    "\n",
    "    return pd.DataFrame(df.values,\n",
    "                        index=pd.MultiIndex.from_frame(multi_index_dataframe),\n",
    "                        columns=df.columns.values.tolist())"
   ]
  },
  {
   "cell_type": "code",
   "execution_count": 35,
   "metadata": {},
   "outputs": [
    {
     "data": {
      "text/html": [
       "<div>\n",
       "<style scoped>\n",
       "    .dataframe tbody tr th:only-of-type {\n",
       "        vertical-align: middle;\n",
       "    }\n",
       "\n",
       "    .dataframe tbody tr th {\n",
       "        vertical-align: top;\n",
       "    }\n",
       "\n",
       "    .dataframe thead th {\n",
       "        text-align: right;\n",
       "    }\n",
       "</style>\n",
       "<table border=\"1\" class=\"dataframe\">\n",
       "  <thead>\n",
       "    <tr style=\"text-align: right;\">\n",
       "      <th></th>\n",
       "      <th></th>\n",
       "      <th></th>\n",
       "      <th>actual_allmeters</th>\n",
       "      <th>actual_foodupa</th>\n",
       "      <th>actual_pedmeters</th>\n",
       "      <th>actual_waterupa</th>\n",
       "      <th>actual_wheelmeters</th>\n",
       "      <th>bodymass</th>\n",
       "      <th>kcal_hr</th>\n",
       "      <th>rq</th>\n",
       "    </tr>\n",
       "    <tr>\n",
       "      <th>Date_Time_1</th>\n",
       "      <th>subjectsID</th>\n",
       "      <th>Group</th>\n",
       "      <th></th>\n",
       "      <th></th>\n",
       "      <th></th>\n",
       "      <th></th>\n",
       "      <th></th>\n",
       "      <th></th>\n",
       "      <th></th>\n",
       "      <th></th>\n",
       "    </tr>\n",
       "  </thead>\n",
       "  <tbody>\n",
       "    <tr>\n",
       "      <th rowspan=\"3\" valign=\"top\">2021-10-10 07:47:00</th>\n",
       "      <th>1.0</th>\n",
       "      <th>Control</th>\n",
       "      <td>2.584852</td>\n",
       "      <td>0.0</td>\n",
       "      <td>2.210261</td>\n",
       "      <td>0.000000</td>\n",
       "      <td>90.66000</td>\n",
       "      <td>16.32920</td>\n",
       "      <td>0.461753</td>\n",
       "      <td>0.890226</td>\n",
       "    </tr>\n",
       "    <tr>\n",
       "      <th>4.0</th>\n",
       "      <th>Control</th>\n",
       "      <td>4.507522</td>\n",
       "      <td>0.0</td>\n",
       "      <td>3.976356</td>\n",
       "      <td>0.059264</td>\n",
       "      <td>114.03480</td>\n",
       "      <td>18.27759</td>\n",
       "      <td>0.491410</td>\n",
       "      <td>0.932738</td>\n",
       "    </tr>\n",
       "    <tr>\n",
       "      <th>7.0</th>\n",
       "      <th>Control</th>\n",
       "      <td>7.032237</td>\n",
       "      <td>0.0</td>\n",
       "      <td>6.079361</td>\n",
       "      <td>0.000000</td>\n",
       "      <td>2.52539</td>\n",
       "      <td>15.35924</td>\n",
       "      <td>0.273321</td>\n",
       "      <td>0.877051</td>\n",
       "    </tr>\n",
       "  </tbody>\n",
       "</table>\n",
       "</div>"
      ],
      "text/plain": [
       "                                        actual_allmeters  actual_foodupa  \\\n",
       "Date_Time_1         subjectsID Group                                       \n",
       "2021-10-10 07:47:00 1.0        Control          2.584852             0.0   \n",
       "                    4.0        Control          4.507522             0.0   \n",
       "                    7.0        Control          7.032237             0.0   \n",
       "\n",
       "                                        actual_pedmeters  actual_waterupa  \\\n",
       "Date_Time_1         subjectsID Group                                        \n",
       "2021-10-10 07:47:00 1.0        Control          2.210261         0.000000   \n",
       "                    4.0        Control          3.976356         0.059264   \n",
       "                    7.0        Control          6.079361         0.000000   \n",
       "\n",
       "                                        actual_wheelmeters  bodymass  \\\n",
       "Date_Time_1         subjectsID Group                                   \n",
       "2021-10-10 07:47:00 1.0        Control            90.66000  16.32920   \n",
       "                    4.0        Control           114.03480  18.27759   \n",
       "                    7.0        Control             2.52539  15.35924   \n",
       "\n",
       "                                         kcal_hr        rq  \n",
       "Date_Time_1         subjectsID Group                        \n",
       "2021-10-10 07:47:00 1.0        Control  0.461753  0.890226  \n",
       "                    4.0        Control  0.491410  0.932738  \n",
       "                    7.0        Control  0.273321  0.877051  "
      ]
     },
     "execution_count": 35,
     "metadata": {},
     "output_type": "execute_result"
    }
   ],
   "source": [
    "df_data_experiment = pd.read_csv('../csvs/InCal_format_meital.csv')\n",
    "df_design_expriment = pd.read_csv('../csvs/InCal_format_Design.csv')\n",
    "df = incal_create_df_incal_format(df_data_experiment, df_design_expriment)\n",
    "df = df.drop(columns=['vco2', 'vh2o', 'vo2', 'xbreak', 'ybreak'])\n",
    "df.sort_index(level=['Date_Time_1','subjectsID'], inplace=True)\n",
    "\n",
    "df.head(3)\n"
   ]
  },
  {
   "cell_type": "code",
   "execution_count": 36,
   "metadata": {},
   "outputs": [],
   "source": [
    "df.index = df.index.droplevel(2)"
   ]
  },
  {
   "cell_type": "code",
   "execution_count": 37,
   "metadata": {},
   "outputs": [
    {
     "data": {
      "text/plain": [
       "DatetimeIndex(['2021-10-10 07:47:00', '2021-10-10 07:47:00',\n",
       "               '2021-10-10 07:47:00', '2021-10-10 07:47:00',\n",
       "               '2021-10-10 07:47:00', '2021-10-10 07:47:00',\n",
       "               '2021-10-10 07:47:00', '2021-10-10 07:47:00',\n",
       "               '2021-10-10 07:47:00', '2021-10-10 07:47:00',\n",
       "               ...\n",
       "               '2021-10-17 09:07:00', '2021-10-17 09:07:00',\n",
       "               '2021-10-17 09:07:00', '2021-10-17 09:07:00',\n",
       "               '2021-10-17 09:07:00', '2021-10-17 09:07:00',\n",
       "               '2021-10-17 09:07:00', '2021-10-17 09:07:00',\n",
       "               '2021-10-17 09:07:00', '2021-10-17 09:07:00'],\n",
       "              dtype='datetime64[ns]', name='Date_Time_1', length=8144, freq=None)"
      ]
     },
     "execution_count": 37,
     "metadata": {},
     "output_type": "execute_result"
    }
   ],
   "source": [
    "index_datetime = df.index.get_level_values(0)\n",
    "index_datetime"
   ]
  },
  {
   "cell_type": "code",
   "execution_count": 38,
   "metadata": {},
   "outputs": [],
   "source": [
    "def count_custome_day_start_and_end(pd_index_datetime, shift_hour):\n",
    "    dates = sorted(set(pd_index_datetime.date))\n",
    "    conditiones = [ logic \n",
    "        for date in dates \n",
    "        for logic in [\n",
    "          ((pd_index_datetime.hour < shift_hour) & (pd_index_datetime.date == date)), # day before\n",
    "          ((pd_index_datetime.hour >= shift_hour) & (pd_index_datetime.date == date))] # day after\n",
    "      ]\n",
    "    langth = (len(conditiones)//2) + 1\n",
    "    choices = [0, *np.repeat(range(1, langth), 2)]\n",
    "    choices.pop()\n",
    "    return np.select(conditiones, choices, pd_index_datetime.factorize()[0])\n",
    "df['exp_days'] = count_custome_day_start_and_end(index_datetime, 8)"
   ]
  },
  {
   "cell_type": "code",
   "execution_count": 39,
   "metadata": {},
   "outputs": [],
   "source": [
    "df = df.groupby(['exp_days', df.index.get_level_values(1)]).agg({\n",
    "  'actual_foodupa': 'sum',\n",
    "  'kcal_hr': 'sum',\n",
    "  'actual_allmeters': 'mean', \n",
    "  \"bodymass\": 'mean',\n",
    "  'actual_wheelmeters': 'mean', \n",
    "  'rq': 'mean',\n",
    "  'actual_pedmeters': 'mean',\n",
    "})"
   ]
  },
  {
   "cell_type": "code",
   "execution_count": 42,
   "metadata": {},
   "outputs": [
    {
     "data": {
      "application/vnd.plotly.v1+json": {
       "config": {
        "plotlyServerURL": "https://plot.ly"
       },
       "data": [
        {
         "alignmentgroup": "True",
         "hovertemplate": "Days of expriment=%{x}<br>Food intake=%{y}<extra></extra>",
         "legendgroup": "",
         "marker": {
          "color": "#1F77B4"
         },
         "name": "",
         "notched": false,
         "offsetgroup": "",
         "orientation": "v",
         "showlegend": false,
         "type": "box",
         "x": [
          0,
          0,
          0,
          0,
          0,
          0,
          0,
          0,
          0,
          0,
          0,
          0,
          0,
          0,
          0,
          0,
          1,
          1,
          1,
          1,
          1,
          1,
          1,
          1,
          1,
          1,
          1,
          1,
          1,
          1,
          1,
          1,
          2,
          2,
          2,
          2,
          2,
          2,
          2,
          2,
          2,
          2,
          2,
          2,
          2,
          2,
          2,
          2,
          3,
          3,
          3,
          3,
          3,
          3,
          3,
          3,
          3,
          3,
          3,
          3,
          3,
          3,
          3,
          3,
          4,
          4,
          4,
          4,
          4,
          4,
          4,
          4,
          4,
          4,
          4,
          4,
          4,
          4,
          4,
          4,
          5,
          5,
          5,
          5,
          5,
          5,
          5,
          5,
          5,
          5,
          5,
          5,
          5,
          5,
          5,
          5,
          6,
          6,
          6,
          6,
          6,
          6,
          6,
          6,
          6,
          6,
          6,
          6,
          6,
          6,
          6,
          6,
          7,
          7,
          7,
          7,
          7,
          7,
          7,
          7,
          7,
          7,
          7,
          7,
          7,
          7,
          7,
          7,
          8,
          8,
          8,
          8,
          8,
          8,
          8,
          8,
          8,
          8,
          8,
          8,
          8,
          8,
          8,
          8
         ],
         "x0": " ",
         "xaxis": "x",
         "y": [
          0,
          0,
          0,
          0,
          0,
          0,
          0,
          0,
          0,
          0,
          0,
          0,
          0,
          0,
          0,
          0,
          2.0728429999999984,
          5.350621999999999,
          4.4741339999999985,
          2.1712119999999984,
          3.0543989999999988,
          3.2188869999999983,
          3.2726229999999985,
          3.2439409999999986,
          4.499236999999998,
          3.811957999999999,
          5.162907999999999,
          2.3276639999999986,
          1.860182999999999,
          1.5461359999999986,
          3.361685999999999,
          4.615871999999999,
          0.0192499999999999,
          0.8572679999999995,
          0.0041349999999997,
          0,
          0.0780579999999999,
          0.10194599999999979,
          0.0037410000000002,
          0.0181330000000001,
          0.0328460000000001,
          0.0115309999999997,
          0.0048019999999997,
          0.0869859999999999,
          0.1127869999999999,
          0.005357,
          0,
          0.0934879999999998,
          3.4130379999999985,
          5.90551,
          5.073492999999998,
          4.352003999999997,
          4.667726999999998,
          5.134149999999999,
          4.285439999999999,
          4.0739649999999985,
          5.175076999999999,
          6.058284,
          3.8871109999999995,
          3.984157999999998,
          3.0792709999999994,
          4.273802999999998,
          5.558349999999997,
          4.122334999999998,
          0.0619139999999998,
          0.0531100000000002,
          0.21134299999999928,
          0,
          0.0143310000000003,
          0.0442920000000004,
          0,
          0.0641349999999993,
          0.0542700000000007,
          0,
          0,
          0.0607319999999997,
          0.1483559999999996,
          0.0632450000000002,
          0,
          0.0328870000000005,
          2.9458499999999983,
          3.9765299999999972,
          3.9163149999999995,
          5.021753999999998,
          3.7526149999999987,
          3.7254049999999967,
          5.091115999999999,
          2.9723159999999997,
          4.931179999999998,
          5.148416999999996,
          6.693198999999998,
          4.584859999999997,
          4.296556999999999,
          3.800309999999998,
          6.5817039999999984,
          3.9448279999999976,
          0.0315560000000001,
          0,
          0.0228099999999997,
          0.0781500000000008,
          0.4707499999999989,
          0.0871300000000001,
          0,
          0.0891499999999982,
          0,
          0.04725,
          0,
          0.0835299999999996,
          0,
          0.0042120000000007,
          0.0059199999999997,
          0.047880000000001,
          4.539328999999999,
          3.7410099999999975,
          4.285739999999999,
          5.14786,
          4.809179999999998,
          6.58381,
          5.759649999999997,
          5.826369999999999,
          5.616629999999997,
          4.3073999999999995,
          5.4533799999999975,
          5.807930000000001,
          5.557595999999999,
          4.959966999999997,
          5.599529999999998,
          4.046369999999996,
          0.0197999999999982,
          0.1009300000000017,
          0.0020400000000009,
          0,
          0,
          0.0766999999999988,
          0.0412600000000011,
          0.0033999999999991,
          0.076830000000001,
          0,
          0,
          0.0139799999999965,
          0.0535099999999992,
          0.0180400000000009,
          0.0494000000000021,
          0.0996200000000015
         ],
         "y0": " ",
         "yaxis": "y"
        }
       ],
       "layout": {
        "boxmode": "group",
        "legend": {
         "tracegroupgap": 0
        },
        "margin": {
         "t": 60
        },
        "template": {
         "data": {
          "bar": [
           {
            "error_x": {
             "color": "rgb(36,36,36)"
            },
            "error_y": {
             "color": "rgb(36,36,36)"
            },
            "marker": {
             "line": {
              "color": "white",
              "width": 0.5
             },
             "pattern": {
              "fillmode": "overlay",
              "size": 10,
              "solidity": 0.2
             }
            },
            "type": "bar"
           }
          ],
          "barpolar": [
           {
            "marker": {
             "line": {
              "color": "white",
              "width": 0.5
             },
             "pattern": {
              "fillmode": "overlay",
              "size": 10,
              "solidity": 0.2
             }
            },
            "type": "barpolar"
           }
          ],
          "carpet": [
           {
            "aaxis": {
             "endlinecolor": "rgb(36,36,36)",
             "gridcolor": "white",
             "linecolor": "white",
             "minorgridcolor": "white",
             "startlinecolor": "rgb(36,36,36)"
            },
            "baxis": {
             "endlinecolor": "rgb(36,36,36)",
             "gridcolor": "white",
             "linecolor": "white",
             "minorgridcolor": "white",
             "startlinecolor": "rgb(36,36,36)"
            },
            "type": "carpet"
           }
          ],
          "choropleth": [
           {
            "colorbar": {
             "outlinewidth": 1,
             "tickcolor": "rgb(36,36,36)",
             "ticks": "outside"
            },
            "type": "choropleth"
           }
          ],
          "contour": [
           {
            "colorbar": {
             "outlinewidth": 1,
             "tickcolor": "rgb(36,36,36)",
             "ticks": "outside"
            },
            "colorscale": [
             [
              0,
              "#440154"
             ],
             [
              0.1111111111111111,
              "#482878"
             ],
             [
              0.2222222222222222,
              "#3e4989"
             ],
             [
              0.3333333333333333,
              "#31688e"
             ],
             [
              0.4444444444444444,
              "#26828e"
             ],
             [
              0.5555555555555556,
              "#1f9e89"
             ],
             [
              0.6666666666666666,
              "#35b779"
             ],
             [
              0.7777777777777778,
              "#6ece58"
             ],
             [
              0.8888888888888888,
              "#b5de2b"
             ],
             [
              1,
              "#fde725"
             ]
            ],
            "type": "contour"
           }
          ],
          "contourcarpet": [
           {
            "colorbar": {
             "outlinewidth": 1,
             "tickcolor": "rgb(36,36,36)",
             "ticks": "outside"
            },
            "type": "contourcarpet"
           }
          ],
          "heatmap": [
           {
            "colorbar": {
             "outlinewidth": 1,
             "tickcolor": "rgb(36,36,36)",
             "ticks": "outside"
            },
            "colorscale": [
             [
              0,
              "#440154"
             ],
             [
              0.1111111111111111,
              "#482878"
             ],
             [
              0.2222222222222222,
              "#3e4989"
             ],
             [
              0.3333333333333333,
              "#31688e"
             ],
             [
              0.4444444444444444,
              "#26828e"
             ],
             [
              0.5555555555555556,
              "#1f9e89"
             ],
             [
              0.6666666666666666,
              "#35b779"
             ],
             [
              0.7777777777777778,
              "#6ece58"
             ],
             [
              0.8888888888888888,
              "#b5de2b"
             ],
             [
              1,
              "#fde725"
             ]
            ],
            "type": "heatmap"
           }
          ],
          "heatmapgl": [
           {
            "colorbar": {
             "outlinewidth": 1,
             "tickcolor": "rgb(36,36,36)",
             "ticks": "outside"
            },
            "colorscale": [
             [
              0,
              "#440154"
             ],
             [
              0.1111111111111111,
              "#482878"
             ],
             [
              0.2222222222222222,
              "#3e4989"
             ],
             [
              0.3333333333333333,
              "#31688e"
             ],
             [
              0.4444444444444444,
              "#26828e"
             ],
             [
              0.5555555555555556,
              "#1f9e89"
             ],
             [
              0.6666666666666666,
              "#35b779"
             ],
             [
              0.7777777777777778,
              "#6ece58"
             ],
             [
              0.8888888888888888,
              "#b5de2b"
             ],
             [
              1,
              "#fde725"
             ]
            ],
            "type": "heatmapgl"
           }
          ],
          "histogram": [
           {
            "marker": {
             "line": {
              "color": "white",
              "width": 0.6
             }
            },
            "type": "histogram"
           }
          ],
          "histogram2d": [
           {
            "colorbar": {
             "outlinewidth": 1,
             "tickcolor": "rgb(36,36,36)",
             "ticks": "outside"
            },
            "colorscale": [
             [
              0,
              "#440154"
             ],
             [
              0.1111111111111111,
              "#482878"
             ],
             [
              0.2222222222222222,
              "#3e4989"
             ],
             [
              0.3333333333333333,
              "#31688e"
             ],
             [
              0.4444444444444444,
              "#26828e"
             ],
             [
              0.5555555555555556,
              "#1f9e89"
             ],
             [
              0.6666666666666666,
              "#35b779"
             ],
             [
              0.7777777777777778,
              "#6ece58"
             ],
             [
              0.8888888888888888,
              "#b5de2b"
             ],
             [
              1,
              "#fde725"
             ]
            ],
            "type": "histogram2d"
           }
          ],
          "histogram2dcontour": [
           {
            "colorbar": {
             "outlinewidth": 1,
             "tickcolor": "rgb(36,36,36)",
             "ticks": "outside"
            },
            "colorscale": [
             [
              0,
              "#440154"
             ],
             [
              0.1111111111111111,
              "#482878"
             ],
             [
              0.2222222222222222,
              "#3e4989"
             ],
             [
              0.3333333333333333,
              "#31688e"
             ],
             [
              0.4444444444444444,
              "#26828e"
             ],
             [
              0.5555555555555556,
              "#1f9e89"
             ],
             [
              0.6666666666666666,
              "#35b779"
             ],
             [
              0.7777777777777778,
              "#6ece58"
             ],
             [
              0.8888888888888888,
              "#b5de2b"
             ],
             [
              1,
              "#fde725"
             ]
            ],
            "type": "histogram2dcontour"
           }
          ],
          "mesh3d": [
           {
            "colorbar": {
             "outlinewidth": 1,
             "tickcolor": "rgb(36,36,36)",
             "ticks": "outside"
            },
            "type": "mesh3d"
           }
          ],
          "parcoords": [
           {
            "line": {
             "colorbar": {
              "outlinewidth": 1,
              "tickcolor": "rgb(36,36,36)",
              "ticks": "outside"
             }
            },
            "type": "parcoords"
           }
          ],
          "pie": [
           {
            "automargin": true,
            "type": "pie"
           }
          ],
          "scatter": [
           {
            "marker": {
             "colorbar": {
              "outlinewidth": 1,
              "tickcolor": "rgb(36,36,36)",
              "ticks": "outside"
             }
            },
            "type": "scatter"
           }
          ],
          "scatter3d": [
           {
            "line": {
             "colorbar": {
              "outlinewidth": 1,
              "tickcolor": "rgb(36,36,36)",
              "ticks": "outside"
             }
            },
            "marker": {
             "colorbar": {
              "outlinewidth": 1,
              "tickcolor": "rgb(36,36,36)",
              "ticks": "outside"
             }
            },
            "type": "scatter3d"
           }
          ],
          "scattercarpet": [
           {
            "marker": {
             "colorbar": {
              "outlinewidth": 1,
              "tickcolor": "rgb(36,36,36)",
              "ticks": "outside"
             }
            },
            "type": "scattercarpet"
           }
          ],
          "scattergeo": [
           {
            "marker": {
             "colorbar": {
              "outlinewidth": 1,
              "tickcolor": "rgb(36,36,36)",
              "ticks": "outside"
             }
            },
            "type": "scattergeo"
           }
          ],
          "scattergl": [
           {
            "marker": {
             "colorbar": {
              "outlinewidth": 1,
              "tickcolor": "rgb(36,36,36)",
              "ticks": "outside"
             }
            },
            "type": "scattergl"
           }
          ],
          "scattermapbox": [
           {
            "marker": {
             "colorbar": {
              "outlinewidth": 1,
              "tickcolor": "rgb(36,36,36)",
              "ticks": "outside"
             }
            },
            "type": "scattermapbox"
           }
          ],
          "scatterpolar": [
           {
            "marker": {
             "colorbar": {
              "outlinewidth": 1,
              "tickcolor": "rgb(36,36,36)",
              "ticks": "outside"
             }
            },
            "type": "scatterpolar"
           }
          ],
          "scatterpolargl": [
           {
            "marker": {
             "colorbar": {
              "outlinewidth": 1,
              "tickcolor": "rgb(36,36,36)",
              "ticks": "outside"
             }
            },
            "type": "scatterpolargl"
           }
          ],
          "scatterternary": [
           {
            "marker": {
             "colorbar": {
              "outlinewidth": 1,
              "tickcolor": "rgb(36,36,36)",
              "ticks": "outside"
             }
            },
            "type": "scatterternary"
           }
          ],
          "surface": [
           {
            "colorbar": {
             "outlinewidth": 1,
             "tickcolor": "rgb(36,36,36)",
             "ticks": "outside"
            },
            "colorscale": [
             [
              0,
              "#440154"
             ],
             [
              0.1111111111111111,
              "#482878"
             ],
             [
              0.2222222222222222,
              "#3e4989"
             ],
             [
              0.3333333333333333,
              "#31688e"
             ],
             [
              0.4444444444444444,
              "#26828e"
             ],
             [
              0.5555555555555556,
              "#1f9e89"
             ],
             [
              0.6666666666666666,
              "#35b779"
             ],
             [
              0.7777777777777778,
              "#6ece58"
             ],
             [
              0.8888888888888888,
              "#b5de2b"
             ],
             [
              1,
              "#fde725"
             ]
            ],
            "type": "surface"
           }
          ],
          "table": [
           {
            "cells": {
             "fill": {
              "color": "rgb(237,237,237)"
             },
             "line": {
              "color": "white"
             }
            },
            "header": {
             "fill": {
              "color": "rgb(217,217,217)"
             },
             "line": {
              "color": "white"
             }
            },
            "type": "table"
           }
          ]
         },
         "layout": {
          "annotationdefaults": {
           "arrowhead": 0,
           "arrowwidth": 1
          },
          "autotypenumbers": "strict",
          "coloraxis": {
           "colorbar": {
            "outlinewidth": 1,
            "tickcolor": "rgb(36,36,36)",
            "ticks": "outside"
           }
          },
          "colorscale": {
           "diverging": [
            [
             0,
             "rgb(103,0,31)"
            ],
            [
             0.1,
             "rgb(178,24,43)"
            ],
            [
             0.2,
             "rgb(214,96,77)"
            ],
            [
             0.3,
             "rgb(244,165,130)"
            ],
            [
             0.4,
             "rgb(253,219,199)"
            ],
            [
             0.5,
             "rgb(247,247,247)"
            ],
            [
             0.6,
             "rgb(209,229,240)"
            ],
            [
             0.7,
             "rgb(146,197,222)"
            ],
            [
             0.8,
             "rgb(67,147,195)"
            ],
            [
             0.9,
             "rgb(33,102,172)"
            ],
            [
             1,
             "rgb(5,48,97)"
            ]
           ],
           "sequential": [
            [
             0,
             "#440154"
            ],
            [
             0.1111111111111111,
             "#482878"
            ],
            [
             0.2222222222222222,
             "#3e4989"
            ],
            [
             0.3333333333333333,
             "#31688e"
            ],
            [
             0.4444444444444444,
             "#26828e"
            ],
            [
             0.5555555555555556,
             "#1f9e89"
            ],
            [
             0.6666666666666666,
             "#35b779"
            ],
            [
             0.7777777777777778,
             "#6ece58"
            ],
            [
             0.8888888888888888,
             "#b5de2b"
            ],
            [
             1,
             "#fde725"
            ]
           ],
           "sequentialminus": [
            [
             0,
             "#440154"
            ],
            [
             0.1111111111111111,
             "#482878"
            ],
            [
             0.2222222222222222,
             "#3e4989"
            ],
            [
             0.3333333333333333,
             "#31688e"
            ],
            [
             0.4444444444444444,
             "#26828e"
            ],
            [
             0.5555555555555556,
             "#1f9e89"
            ],
            [
             0.6666666666666666,
             "#35b779"
            ],
            [
             0.7777777777777778,
             "#6ece58"
            ],
            [
             0.8888888888888888,
             "#b5de2b"
            ],
            [
             1,
             "#fde725"
            ]
           ]
          },
          "colorway": [
           "#1F77B4",
           "#FF7F0E",
           "#2CA02C",
           "#D62728",
           "#9467BD",
           "#8C564B",
           "#E377C2",
           "#7F7F7F",
           "#BCBD22",
           "#17BECF"
          ],
          "font": {
           "color": "rgb(36,36,36)"
          },
          "geo": {
           "bgcolor": "white",
           "lakecolor": "white",
           "landcolor": "white",
           "showlakes": true,
           "showland": true,
           "subunitcolor": "white"
          },
          "hoverlabel": {
           "align": "left"
          },
          "hovermode": "closest",
          "mapbox": {
           "style": "light"
          },
          "paper_bgcolor": "white",
          "plot_bgcolor": "white",
          "polar": {
           "angularaxis": {
            "gridcolor": "rgb(232,232,232)",
            "linecolor": "rgb(36,36,36)",
            "showgrid": false,
            "showline": true,
            "ticks": "outside"
           },
           "bgcolor": "white",
           "radialaxis": {
            "gridcolor": "rgb(232,232,232)",
            "linecolor": "rgb(36,36,36)",
            "showgrid": false,
            "showline": true,
            "ticks": "outside"
           }
          },
          "scene": {
           "xaxis": {
            "backgroundcolor": "white",
            "gridcolor": "rgb(232,232,232)",
            "gridwidth": 2,
            "linecolor": "rgb(36,36,36)",
            "showbackground": true,
            "showgrid": false,
            "showline": true,
            "ticks": "outside",
            "zeroline": false,
            "zerolinecolor": "rgb(36,36,36)"
           },
           "yaxis": {
            "backgroundcolor": "white",
            "gridcolor": "rgb(232,232,232)",
            "gridwidth": 2,
            "linecolor": "rgb(36,36,36)",
            "showbackground": true,
            "showgrid": false,
            "showline": true,
            "ticks": "outside",
            "zeroline": false,
            "zerolinecolor": "rgb(36,36,36)"
           },
           "zaxis": {
            "backgroundcolor": "white",
            "gridcolor": "rgb(232,232,232)",
            "gridwidth": 2,
            "linecolor": "rgb(36,36,36)",
            "showbackground": true,
            "showgrid": false,
            "showline": true,
            "ticks": "outside",
            "zeroline": false,
            "zerolinecolor": "rgb(36,36,36)"
           }
          },
          "shapedefaults": {
           "fillcolor": "black",
           "line": {
            "width": 0
           },
           "opacity": 0.3
          },
          "ternary": {
           "aaxis": {
            "gridcolor": "rgb(232,232,232)",
            "linecolor": "rgb(36,36,36)",
            "showgrid": false,
            "showline": true,
            "ticks": "outside"
           },
           "baxis": {
            "gridcolor": "rgb(232,232,232)",
            "linecolor": "rgb(36,36,36)",
            "showgrid": false,
            "showline": true,
            "ticks": "outside"
           },
           "bgcolor": "white",
           "caxis": {
            "gridcolor": "rgb(232,232,232)",
            "linecolor": "rgb(36,36,36)",
            "showgrid": false,
            "showline": true,
            "ticks": "outside"
           }
          },
          "title": {
           "x": 0.05
          },
          "xaxis": {
           "automargin": true,
           "gridcolor": "rgb(232,232,232)",
           "linecolor": "rgb(36,36,36)",
           "showgrid": false,
           "showline": true,
           "ticks": "outside",
           "title": {
            "standoff": 15
           },
           "zeroline": false,
           "zerolinecolor": "rgb(36,36,36)"
          },
          "yaxis": {
           "automargin": true,
           "gridcolor": "rgb(232,232,232)",
           "linecolor": "rgb(36,36,36)",
           "showgrid": false,
           "showline": true,
           "ticks": "outside",
           "title": {
            "standoff": 15
           },
           "zeroline": false,
           "zerolinecolor": "rgb(36,36,36)"
          }
         }
        },
        "xaxis": {
         "anchor": "y",
         "domain": [
          0,
          1
         ],
         "title": {
          "text": "Days of expriment"
         }
        },
        "yaxis": {
         "anchor": "x",
         "domain": [
          0,
          1
         ],
         "title": {
          "text": "Food intake"
         }
        }
       }
      }
     },
     "metadata": {},
     "output_type": "display_data"
    }
   ],
   "source": [
    "px.box(x=df.index.get_level_values(0), y=df['actual_foodupa'], template='simple_white', labels={\n",
    "  'y': 'Food intake', \n",
    "  'x': 'Days of expriment'\n",
    "})"
   ]
  },
  {
   "cell_type": "code",
   "execution_count": 44,
   "metadata": {},
   "outputs": [],
   "source": [
    "df.to_csv('custome_days_meital_exp_data.csv')"
   ]
  },
  {
   "cell_type": "code",
   "execution_count": null,
   "metadata": {},
   "outputs": [],
   "source": []
  }
 ],
 "metadata": {
  "interpreter": {
   "hash": "a9d0df8d0a6c967036c04416e9cfa4429678e2d11b54414b38f7d0328a69c043"
  },
  "kernelspec": {
   "display_name": "Python 3.9.7 64-bit ('venv_incal_notebooks': venv)",
   "name": "python3"
  },
  "language_info": {
   "codemirror_mode": {
    "name": "ipython",
    "version": 3
   },
   "file_extension": ".py",
   "mimetype": "text/x-python",
   "name": "python",
   "nbconvert_exporter": "python",
   "pygments_lexer": "ipython3",
   "version": "3.9.7"
  },
  "orig_nbformat": 4
 },
 "nbformat": 4,
 "nbformat_minor": 2
}
